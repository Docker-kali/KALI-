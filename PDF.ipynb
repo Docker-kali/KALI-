{
 "cells": [
  {
   "cell_type": "markdown",
   "id": "e8db8bfe-14bd-45cd-93bb-4bc603a5c9ea",
   "metadata": {},
   "source": [
    "!conda create -n pipeline python=3.10\n",
    "\n",
    "!pip instally -r requirements.txt\n",
    "\n",
    "!pip install https://github.com/opendatalab/PDF-Extract-Kit/raw/main/assets/whl/detectron2-0.6-cp310-cp310-linux_x86_64.whl"
   ]
  },
  {
   "cell_type": "code",
   "execution_count": 2,
   "id": "02ea3171-fd43-4bf0-b5d1-73072b46acbd",
   "metadata": {},
   "outputs": [
    {
     "name": "stdout",
     "output_type": "stream",
     "text": [
      "\u001b[31mERROR: Could not find a version that satisfies the requirement requiments.txt (from versions: none)\u001b[0m\u001b[31m\n",
      "\u001b[0m\u001b[31mERROR: No matching distribution found for requiments.txt\u001b[0m\u001b[31m\n",
      "\u001b[0m"
     ]
    }
   ],
   "source": [
    "!pip install requiments.txt"
   ]
  },
  {
   "cell_type": "code",
   "execution_count": null,
   "id": "60a35607-24f0-4a7a-b9be-9adfe39d6490",
   "metadata": {},
   "outputs": [],
   "source": []
  },
  {
   "cell_type": "code",
   "execution_count": null,
   "id": "d1d88214-872d-452d-b489-75a8dbcb4d20",
   "metadata": {},
   "outputs": [],
   "source": []
  }
 ],
 "metadata": {
  "kernelspec": {
   "display_name": "Python 3 (ipykernel)",
   "language": "python",
   "name": "python3"
  },
  "language_info": {
   "codemirror_mode": {
    "name": "ipython",
    "version": 3
   },
   "file_extension": ".py",
   "mimetype": "text/x-python",
   "name": "python",
   "nbconvert_exporter": "python",
   "pygments_lexer": "ipython3",
   "version": "3.12.1"
  }
 },
 "nbformat": 4,
 "nbformat_minor": 5
}
