{
 "cells": [
  {
   "cell_type": "markdown",
   "metadata": {
    "isInteractiveWindowMessageCell": true
   },
   "source": [
    "_Connecting to Python 3.12.0..._"
   ]
  },
  {
   "cell_type": "code",
   "execution_count": null,
   "metadata": {},
   "outputs": [],
   "source": [
    "import os\n",
    "import shutil\n",
    "\n",
    "# Get the list of all codespaces\n",
    "codespaces = os.listdir(\"codespaces\")\n",
    "\n",
    "# For each codespace, copy its contents into the current codespace\n",
    "for codespace in codespaces:\n",
    "  shutil.copytree(os.path.join(\"codespaces\", codespace), os.path.join(\".\", codespace))"
   ]
  }
 ],
 "metadata": {
  "kernelspec": {
   "display_name": "Python 3",
   "language": "python",
   "name": "python3"
  },
  "language_info": {
   "name": "python",
   "version": "3.12.0"
  }
 },
 "nbformat": 4,
 "nbformat_minor": 2
}
